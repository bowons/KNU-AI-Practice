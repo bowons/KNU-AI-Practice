{
  "nbformat": 4,
  "nbformat_minor": 0,
  "metadata": {
    "colab": {
      "provenance": [],
      "authorship_tag": "ABX9TyOmG1sUTMMWa2jsZ2FoYe5o",
      "include_colab_link": true
    },
    "kernelspec": {
      "name": "python3",
      "display_name": "Python 3"
    },
    "language_info": {
      "name": "python"
    }
  },
  "cells": [
    {
      "cell_type": "markdown",
      "metadata": {
        "id": "view-in-github",
        "colab_type": "text"
      },
      "source": [
        "<a href=\"https://colab.research.google.com/github/bowons/KNU-AI-Practice/blob/main/3-assignment.ipynb\" target=\"_parent\"><img src=\"https://colab.research.google.com/assets/colab-badge.svg\" alt=\"Open In Colab\"/></a>"
      ]
    },
    {
      "cell_type": "markdown",
      "source": [
        "# 과제1 - 로컬 환경에서 인공지능 환경설정 및 실행"
      ],
      "metadata": {
        "id": "dG8Vr6j9jcHQ"
      }
    },
    {
      "cell_type": "code",
      "execution_count": 1,
      "metadata": {
        "colab": {
          "base_uri": "https://localhost:8080/"
        },
        "id": "eZ0O6N0_iTUC",
        "outputId": "d96c3beb-f116-47c1-814c-8d480a510601"
      },
      "outputs": [
        {
          "output_type": "stream",
          "name": "stdout",
          "text": [
            "[[34.  0.  0.  0.  0.  0.  0.  0.  0.  0.]\n",
            " [ 0. 38.  0.  0.  0.  0.  0.  0.  2.  0.]\n",
            " [ 0.  0. 41.  0.  0.  0.  0.  0.  0.  0.]\n",
            " [ 0.  0.  0. 34.  0.  0.  0.  0.  0.  0.]\n",
            " [ 0.  0.  0.  0. 35.  0.  0.  0.  0.  0.]\n",
            " [ 0.  0.  0.  0.  0. 40.  0.  0.  0.  0.]\n",
            " [ 0.  0.  0.  0.  0.  0. 36.  0.  0.  0.]\n",
            " [ 0.  0.  0.  0.  0.  0.  0. 31.  0.  0.]\n",
            " [ 0.  0.  0.  0.  0.  0.  0.  0. 43.  0.]\n",
            " [ 0.  0.  0.  0.  0.  0.  0.  0.  0. 26.]]\n",
            "테스트 집합에 대한 정확률은 99.44444444444444 %입니다.\n"
          ]
        }
      ],
      "source": [
        "from sklearn import datasets\n",
        "from sklearn import svm\n",
        "from sklearn.model_selection import train_test_split\n",
        "import numpy as np\n",
        "\n",
        "# 데이터셋 읽고 훈련 집합과 테스트 집합으로 분할\n",
        "digit=datasets.load_digits()\n",
        "x_train, x_test, y_train, y_test=train_test_split(digit.data, digit.target, train_size=0.8)\n",
        "\n",
        "#svm의 분류 모델 SVC를 학습\n",
        "s=svm.SVC(gamma=0.001)\n",
        "s.fit(x_train,y_train)\n",
        "\n",
        "res=s.predict(x_test)\n",
        "\n",
        "# 혼동 행렬 구하기\n",
        "conf=np.zeros((10,10))\n",
        "for i in range(len(res)):\n",
        "  conf[res[i]][y_test[i]] += 1\n",
        "print(conf)\n",
        "\n",
        "# 정확률 측정 및 출력 작업\n",
        "no_correct=0\n",
        "for i in range(10):\n",
        "  no_correct += conf[i][i]\n",
        "accuracy = no_correct/len(res)\n",
        "print(\"테스트 집합에 대한 정확률은\", accuracy*100,\"%입니다.\")"
      ]
    }
  ]
}