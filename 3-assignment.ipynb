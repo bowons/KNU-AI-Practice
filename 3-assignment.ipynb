{
  "nbformat": 4,
  "nbformat_minor": 0,
  "metadata": {
    "colab": {
      "provenance": [],
      "gpuType": "T4",
      "authorship_tag": "ABX9TyO/rEFn5DWg1tNTxv5ISXK5",
      "include_colab_link": true
    },
    "kernelspec": {
      "name": "python3",
      "display_name": "Python 3"
    },
    "language_info": {
      "name": "python"
    },
    "accelerator": "GPU"
  },
  "cells": [
    {
      "cell_type": "markdown",
      "metadata": {
        "id": "view-in-github",
        "colab_type": "text"
      },
      "source": [
        "<a href=\"https://colab.research.google.com/github/bowons/KNU-AI-Practice/blob/main/3-assignment.ipynb\" target=\"_parent\"><img src=\"https://colab.research.google.com/assets/colab-badge.svg\" alt=\"Open In Colab\"/></a>"
      ]
    },
    {
      "cell_type": "markdown",
      "source": [
        "# 과제1 - 로컬 환경에서 인공지능 환경설정 및 실행"
      ],
      "metadata": {
        "id": "dG8Vr6j9jcHQ"
      }
    },
    {
      "cell_type": "code",
      "execution_count": 1,
      "metadata": {
        "colab": {
          "base_uri": "https://localhost:8080/"
        },
        "id": "eZ0O6N0_iTUC",
        "outputId": "d96c3beb-f116-47c1-814c-8d480a510601"
      },
      "outputs": [
        {
          "output_type": "stream",
          "name": "stdout",
          "text": [
            "[[34.  0.  0.  0.  0.  0.  0.  0.  0.  0.]\n",
            " [ 0. 38.  0.  0.  0.  0.  0.  0.  2.  0.]\n",
            " [ 0.  0. 41.  0.  0.  0.  0.  0.  0.  0.]\n",
            " [ 0.  0.  0. 34.  0.  0.  0.  0.  0.  0.]\n",
            " [ 0.  0.  0.  0. 35.  0.  0.  0.  0.  0.]\n",
            " [ 0.  0.  0.  0.  0. 40.  0.  0.  0.  0.]\n",
            " [ 0.  0.  0.  0.  0.  0. 36.  0.  0.  0.]\n",
            " [ 0.  0.  0.  0.  0.  0.  0. 31.  0.  0.]\n",
            " [ 0.  0.  0.  0.  0.  0.  0.  0. 43.  0.]\n",
            " [ 0.  0.  0.  0.  0.  0.  0.  0.  0. 26.]]\n",
            "테스트 집합에 대한 정확률은 99.44444444444444 %입니다.\n"
          ]
        }
      ],
      "source": [
        "from sklearn import datasets\n",
        "from sklearn import svm\n",
        "from sklearn.model_selection import train_test_split\n",
        "import numpy as np\n",
        "\n",
        "# 데이터셋 읽고 훈련 집합과 테스트 집합으로 분할\n",
        "digit=datasets.load_digits()\n",
        "x_train, x_test, y_train, y_test=train_test_split(digit.data, digit.target, train_size=0.8)\n",
        "\n",
        "#svm의 분류 모델 SVC를 학습\n",
        "s=svm.SVC(gamma=0.001)\n",
        "s.fit(x_train,y_train)\n",
        "\n",
        "res=s.predict(x_test)\n",
        "\n",
        "# 혼동 행렬 구하기\n",
        "conf=np.zeros((10,10))\n",
        "for i in range(len(res)):\n",
        "  conf[res[i]][y_test[i]] += 1\n",
        "print(conf)\n",
        "\n",
        "# 정확률 측정 및 출력 작업\n",
        "no_correct=0\n",
        "for i in range(10):\n",
        "  no_correct += conf[i][i]\n",
        "accuracy = no_correct/len(res)\n",
        "print(\"테스트 집합에 대한 정확률은\", accuracy*100,\"%입니다.\")"
      ]
    },
    {
      "cell_type": "markdown",
      "source": [
        "## Runtime Environment"
      ],
      "metadata": {
        "id": "hY2sxH6JlPxc"
      }
    },
    {
      "cell_type": "code",
      "source": [
        "import sys, platform\n",
        "import numpy\n",
        "import sklearn\n",
        "\n",
        "print(\"Python Version:\", platform.python_version())\n",
        "print(\"Numpy Version:\", numpy.__version__)\n",
        "print(\"scikit-learn version:\", sklearn.__version__)"
      ],
      "metadata": {
        "colab": {
          "base_uri": "https://localhost:8080/"
        },
        "id": "zpTvKDSjlPOK",
        "outputId": "f223f080-9f03-482a-cba8-07d0cc6b4592"
      },
      "execution_count": 2,
      "outputs": [
        {
          "output_type": "stream",
          "name": "stdout",
          "text": [
            "Python Version: 3.12.11\n",
            "Numpy Version: 2.0.2\n",
            "scikit-learn version: 1.6.1\n"
          ]
        }
      ]
    },
    {
      "cell_type": "markdown",
      "source": [
        "## CPU/GPU Info"
      ],
      "metadata": {
        "id": "BM0M6QZymmQe"
      }
    },
    {
      "cell_type": "code",
      "source": [
        "!cat /proc/cpuinfo | grep \"model name\" | head -n 1\n",
        "!nvidia-smi"
      ],
      "metadata": {
        "colab": {
          "base_uri": "https://localhost:8080/"
        },
        "id": "Bf0TpftvmA8l",
        "outputId": "20f7a7c7-21fd-4d69-df51-bd54cf2cb60d"
      },
      "execution_count": 1,
      "outputs": [
        {
          "output_type": "stream",
          "name": "stdout",
          "text": [
            "model name\t: Intel(R) Xeon(R) CPU @ 2.20GHz\n",
            "Mon Sep 22 08:46:22 2025       \n",
            "+-----------------------------------------------------------------------------------------+\n",
            "| NVIDIA-SMI 550.54.15              Driver Version: 550.54.15      CUDA Version: 12.4     |\n",
            "|-----------------------------------------+------------------------+----------------------+\n",
            "| GPU  Name                 Persistence-M | Bus-Id          Disp.A | Volatile Uncorr. ECC |\n",
            "| Fan  Temp   Perf          Pwr:Usage/Cap |           Memory-Usage | GPU-Util  Compute M. |\n",
            "|                                         |                        |               MIG M. |\n",
            "|=========================================+========================+======================|\n",
            "|   0  Tesla T4                       Off |   00000000:00:04.0 Off |                    0 |\n",
            "| N/A   38C    P8             11W /   70W |       0MiB /  15360MiB |      0%      Default |\n",
            "|                                         |                        |                  N/A |\n",
            "+-----------------------------------------+------------------------+----------------------+\n",
            "                                                                                         \n",
            "+-----------------------------------------------------------------------------------------+\n",
            "| Processes:                                                                              |\n",
            "|  GPU   GI   CI        PID   Type   Process name                              GPU Memory |\n",
            "|        ID   ID                                                               Usage      |\n",
            "|=========================================================================================|\n",
            "|  No running processes found                                                             |\n",
            "+-----------------------------------------------------------------------------------------+\n"
          ]
        }
      ]
    }
  ]
}