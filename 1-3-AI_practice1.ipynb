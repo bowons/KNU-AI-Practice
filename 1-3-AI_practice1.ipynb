{
  "nbformat": 4,
  "nbformat_minor": 0,
  "metadata": {
    "colab": {
      "provenance": [],
      "authorship_tag": "ABX9TyPRgt94tLV/Hwjyb4TGLfER",
      "include_colab_link": true
    },
    "kernelspec": {
      "name": "python3",
      "display_name": "Python 3"
    },
    "language_info": {
      "name": "python"
    }
  },
  "cells": [
    {
      "cell_type": "markdown",
      "metadata": {
        "id": "view-in-github",
        "colab_type": "text"
      },
      "source": [
        "<a href=\"https://colab.research.google.com/github/bowons/KNU-AI-Practice/blob/main/1-3-AI_practice1.ipynb\" target=\"_parent\"><img src=\"https://colab.research.google.com/assets/colab-badge.svg\" alt=\"Open In Colab\"/></a>"
      ]
    },
    {
      "cell_type": "markdown",
      "source": [
        "## **컴퓨터의 셈 지능속도 측정**\n",
        "\n",
        "예제 1번\n",
        "\n"
      ],
      "metadata": {
        "id": "hA5tySvjtd8X"
      }
    },
    {
      "cell_type": "code",
      "execution_count": null,
      "metadata": {
        "id": "iTqV1lH4rM_B",
        "colab": {
          "base_uri": "https://localhost:8080/"
        },
        "outputId": "3fc71761-66ed-464e-b3ba-a2e875ef6105"
      },
      "outputs": [
        {
          "output_type": "stream",
          "name": "stdout",
          "text": [
            "1+2+...+100000000= 5000000050000000\n",
            "소요 시간은  14.353230476379395 초입니다.\n"
          ]
        }
      ],
      "source": [
        "import time #시간 측정 라이브러리\n",
        "\n",
        "start=time.time() # 직전 시간\n",
        "sum = 0\n",
        "\n",
        "for i in range(1,100000001):\n",
        "  sum =  sum + i\n",
        "\n",
        "end=time.time() #직후 시간\n",
        "\n",
        "print('1+2+...+100000000=', sum)\n",
        "print('소요 시간은 ', end-start, '초입니다.') #프린트"
      ]
    }
  ]
}